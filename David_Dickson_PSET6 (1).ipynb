{
  "nbformat": 4,
  "nbformat_minor": 0,
  "metadata": {
    "colab": {
      "provenance": []
    },
    "kernelspec": {
      "name": "python3",
      "display_name": "Python 3"
    },
    "language_info": {
      "name": "python"
    }
  },
  "cells": [
    {
      "cell_type": "markdown",
      "source": [
        "Use purely simulation to arrive at an approximate answer for all of the following questions.\n",
        "You shouldn't need anything except `np.random.random()` as a source of randomness, and you should simulate situations reasonably many times and take the mean of what you're interested in to get a good approximate answer.\n",
        "\n",
        "Write easily understandable, concise code; if your code is well-written, you shouldn't need much commenting.\n",
        "Use functions when appropriate.\n",
        "\n",
        "---\n",
        "\n"
      ],
      "metadata": {
        "id": "9jc943lHUNqP"
      }
    },
    {
      "cell_type": "markdown",
      "source": [
        "**(\\*)**\n",
        "First write a function `random_int` that takes a positive integer argument `n` and returns a random integer between 0 and $n$, not including $n$.\n",
        "This should be helpful later."
      ],
      "metadata": {
        "id": "3OyobnHFUNjL"
      }
    },
    {
      "cell_type": "code",
      "source": [
        "import numpy as np\n",
        "import math\n",
        "\n",
        "def random_int(n):\n",
        "  return(int(n * np.random.random()))\n",
        "random_int(365)"
      ],
      "metadata": {
        "id": "OjrReoaEUam9",
        "colab": {
          "base_uri": "https://localhost:8080/"
        },
        "outputId": "bc2edaaf-2b8e-4e28-d7e7-ca91d77a8f4b"
      },
      "execution_count": null,
      "outputs": [
        {
          "output_type": "execute_result",
          "data": {
            "text/plain": [
              "295"
            ]
          },
          "metadata": {},
          "execution_count": 72
        }
      ]
    },
    {
      "cell_type": "markdown",
      "source": [
        "**(A)**\n",
        "You have a coin that lands heads 99% of the time.\n",
        "With what probability will you not see a single tails after $100$ tosses?"
      ],
      "metadata": {
        "id": "5S_9nfT_ZpjV"
      }
    },
    {
      "cell_type": "code",
      "source": [
        "n = 10000\n",
        "def coin_trial():\n",
        "  success = 0\n",
        "  b = 0\n",
        "  while b < 100:\n",
        "    if random_int(100) < 99:\n",
        "      success += 1\n",
        "    b += 1\n",
        "  probability = success/b\n",
        "  if probability == 1:\n",
        "    return True\n",
        "  return False\n",
        "success2 = 0\n",
        "for i in range (n):\n",
        "  if coin_trial():\n",
        "    success2 += 1\n",
        "probability1 = success2/n\n",
        "\n",
        "print(\"The probability that you will not see a single tails after 100 tosses is\", probability1*100,\"%\")\n",
        "\n"
      ],
      "metadata": {
        "id": "wQXpmDQ1cf60",
        "colab": {
          "base_uri": "https://localhost:8080/"
        },
        "outputId": "aec54eaf-7c6e-4987-d89e-d070f918fca2"
      },
      "execution_count": null,
      "outputs": [
        {
          "output_type": "stream",
          "name": "stdout",
          "text": [
            "The probability that you will not see a single tails after 100 tosses is 36.720000000000006 %\n"
          ]
        }
      ]
    },
    {
      "cell_type": "markdown",
      "source": [
        "\\**(B)**\n",
        "How many people would you need to gather in a room to ensure that there's a 75% chance that at least two of them share a birthday?\n",
        "You can assume that every possible birthday is equally likely, and you can exclude Leap Day for the sake of argument."
      ],
      "metadata": {
        "id": "lNYska57UduW"
      }
    },
    {
      "cell_type": "code",
      "source": [
        "for n in range (2,100):\n",
        "  b = 0\n",
        "  for trials in range(1000):\n",
        "    bdays = []\n",
        "    for i in range(n):\n",
        "      birthday = random_int(365)\n",
        "      bdays.append(birthday)\n",
        "    if len(bdays) != len(set(bdays)):\n",
        "      b+=1\n",
        "      bdays.sort()\n",
        "  probability = b/1000\n",
        "  if probability > 0.75:\n",
        "    print(\"You need\", n, \"people\")\n",
        "    break"
      ],
      "metadata": {
        "id": "s9IsRJJBUS1v",
        "colab": {
          "base_uri": "https://localhost:8080/"
        },
        "outputId": "c0300cf9-df38-4576-d414-2eb92a928d4a"
      },
      "execution_count": null,
      "outputs": [
        {
          "output_type": "stream",
          "name": "stdout",
          "text": [
            "You need 33 people\n"
          ]
        }
      ]
    },
    {
      "cell_type": "code",
      "source": [],
      "metadata": {
        "colab": {
          "base_uri": "https://localhost:8080/"
        },
        "id": "c_ajhM9xqj2U",
        "outputId": "1d1f926d-f214-4eff-ea2b-f541a4e509f6"
      },
      "execution_count": null,
      "outputs": [
        {
          "output_type": "stream",
          "name": "stdout",
          "text": [
            "You need 31 people\n"
          ]
        }
      ]
    },
    {
      "cell_type": "markdown",
      "source": [
        "**(C)**\n",
        "You're flipping a coin and your friend bets you'll see the sequence \"HHT\" before you see \"HTT\".\n",
        "Is your friend onto something, or are the chances of each equal?\n",
        "If not, what are they?"
      ],
      "metadata": {
        "id": "sWBlpEGcYXDh"
      }
    },
    {
      "cell_type": "code",
      "source": [
        "def flip_coin():\n",
        "  return 'H' if random_int(2) == 0 else 'T'\n",
        "\n",
        "\n",
        "def headsimulation(trials):\n",
        "  hht_wins = 0\n",
        "  htt_wins = 0\n",
        "  for i in range (trials):\n",
        "    sequence = \"\"\n",
        "    while True:\n",
        "      sequence += flip_coin()\n",
        "      if sequence.endswith(\"HHT\"):\n",
        "        hht_wins += 1\n",
        "        break\n",
        "      elif sequence.endswith(\"HTT\"):\n",
        "        htt_wins += 1\n",
        "        break\n",
        "  return hht_wins / trials, htt_wins / trials\n",
        "\n",
        "trials = 100000\n",
        "\n",
        "prob_hht, prob_htt = headsimulation(trials)\n",
        "\n",
        "print(\"Probability of seeing 'HHT' first:\", prob_hht*100, \"%\")\n",
        "print(\"Probability of seeing 'HHT' first:\", prob_htt*100,\"%\")"
      ],
      "metadata": {
        "id": "1GKbBJ3YZpNU",
        "colab": {
          "base_uri": "https://localhost:8080/"
        },
        "outputId": "d2e46113-54e0-445f-fba4-cbcb226b298f"
      },
      "execution_count": null,
      "outputs": [
        {
          "output_type": "stream",
          "name": "stdout",
          "text": [
            "Probability of seeing 'HHT' first: 66.801 %\n",
            "Probability of seeing 'HHT' first: 33.199 %\n"
          ]
        }
      ]
    },
    {
      "cell_type": "markdown",
      "source": [
        "**(D)**\n",
        "Your friend flips two fair coins while your back is turned and tells you at least one of them landed heads.\n",
        "What's the probability the other coin landed tails?"
      ],
      "metadata": {
        "id": "cjzOKsBRckcv"
      }
    },
    {
      "cell_type": "code",
      "source": [
        "def coin_flips(trials):\n",
        "  tails_given_head = 0\n",
        "  total_with_head = 0\n",
        "  for _ in range(trials):\n",
        "    coin1 = random_int(2)\n",
        "    coin2 = random_int(2)\n",
        "\n",
        "    if coin1 == 1 or coin2 == 1:\n",
        "      total_with_head += 1\n",
        "      if coin1 ==0 or coin2 == 0:\n",
        "        tails_given_head += 1\n",
        "\n",
        "  return tails_given_head / total_with_head\n",
        "\n",
        "trials = 10000\n",
        "probability = coin_flips(trials)\n",
        "\n",
        "print(\"The probability that the other coin lands tails is\", probability*100,\"%\")\n"
      ],
      "metadata": {
        "id": "1OQzuw2FdxWe",
        "colab": {
          "base_uri": "https://localhost:8080/"
        },
        "outputId": "91fbdee0-a8ec-4f8c-a022-8f31695fd7c6"
      },
      "execution_count": null,
      "outputs": [
        {
          "output_type": "stream",
          "name": "stdout",
          "text": [
            "The probability that the other coin lands tails is 66.67994687915007 %\n"
          ]
        }
      ]
    }
  ]
}